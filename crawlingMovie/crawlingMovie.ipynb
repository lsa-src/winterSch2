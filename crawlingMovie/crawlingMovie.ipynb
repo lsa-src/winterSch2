{
  "nbformat": 4,
  "nbformat_minor": 0,
  "metadata": {
    "colab": {
      "name": "ex22.ipynb",
      "provenance": [],
      "collapsed_sections": [],
      "mount_file_id": "1cdYm08zXFcrxcwevU_057w0gTN-fQxqW",
      "authorship_tag": "ABX9TyPYwAmN1GaijxjxNZE6xA4y",
      "include_colab_link": true
    },
    "kernelspec": {
      "name": "python3",
      "display_name": "Python 3"
    }
  },
  "cells": [
    {
      "cell_type": "markdown",
      "metadata": {
        "id": "view-in-github",
        "colab_type": "text"
      },
      "source": [
        "<a href=\"https://colab.research.google.com/github/cybermin/pythonbasic/blob/master/work/06/ex22.ipynb\" target=\"_parent\"><img src=\"https://colab.research.google.com/assets/colab-badge.svg\" alt=\"Open In Colab\"/></a>"
      ]
    },
    {
      "cell_type": "markdown",
      "metadata": {
        "id": "xwumpZlBIplb",
        "colab_type": "text"
      },
      "source": [
        "해결문제)\n",
        "\n",
        "daum 영화 사이트에서 현재 상영작의 목록을 추출하고 상영영화를 선택하면 해당 영화의 상위 10개의 리뷰 내용을 감성분석하시오.\n",
        "+ https://movie.daum.net/premovie/released\n",
        "\n",
        "\n",
        "\n"
      ]
    },
    {
      "cell_type": "code",
      "metadata": {
        "id": "maK51K8EIoLv",
        "colab_type": "code",
        "colab": {
          "base_uri": "https://localhost:8080/",
          "height": 275
        },
        "outputId": "5f68e532-3bad-431d-adab-ce2131c75cf2"
      },
      "source": [
        "#한글 폰트 사용 : colab , 런타임 다시 시작 하기\n",
        "%config InlineBackend.figure_format = 'retina'\n",
        "\n",
        "!apt -qq -y install fonts-nanum"
      ],
      "execution_count": 1,
      "outputs": [
        {
          "output_type": "stream",
          "text": [
            "The following package was automatically installed and is no longer required:\n",
            "  libnvidia-common-440\n",
            "Use 'apt autoremove' to remove it.\n",
            "The following NEW packages will be installed:\n",
            "  fonts-nanum\n",
            "0 upgraded, 1 newly installed, 0 to remove and 33 not upgraded.\n",
            "Need to get 9,604 kB of archives.\n",
            "After this operation, 29.5 MB of additional disk space will be used.\n",
            "Selecting previously unselected package fonts-nanum.\n",
            "(Reading database ... 144379 files and directories currently installed.)\n",
            "Preparing to unpack .../fonts-nanum_20170925-1_all.deb ...\n",
            "Unpacking fonts-nanum (20170925-1) ...\n",
            "Setting up fonts-nanum (20170925-1) ...\n",
            "Processing triggers for fontconfig (2.12.6-0ubuntu2) ...\n"
          ],
          "name": "stdout"
        }
      ]
    },
    {
      "cell_type": "code",
      "metadata": {
        "id": "O2aWB5mmGXHd",
        "colab_type": "code",
        "colab": {}
      },
      "source": [
        "from urllib.request import urlopen\n",
        "from urllib import parse\n",
        "\n",
        "from bs4 import BeautifulSoup as bs\n",
        "\n",
        "import matplotlib.pyplot as plt\n",
        "\n",
        "import matplotlib as mpl\n",
        "import matplotlib.font_manager as fm\n",
        "fontpath = '/usr/share/fonts/truetype/nanum/NanumBarunGothic.ttf'\n",
        "font = fm.FontProperties(fname=fontpath, size=9)\n",
        "plt.rc('font', family='NanumBarunGothic') \n",
        "mpl.font_manager._rebuild()\n",
        "\n",
        "import re"
      ],
      "execution_count": 55,
      "outputs": []
    },
    {
      "cell_type": "code",
      "metadata": {
        "id": "c3yQdDTF3Enf",
        "colab_type": "code",
        "colab": {}
      },
      "source": [
        "#문자열에서 charset요소값을 찾아줌\n",
        "def charEncode(st) :\n",
        "    pt = r'charset=[\\\"\\']*([\\w-]+)'\n",
        "\n",
        "    charcode  = re.search(pt, st)\n",
        "    if charcode : \n",
        "        cc = charcode.group(1)\n",
        "    else :\n",
        "        cc = 'utf-8'\n",
        "\n",
        "    return cc\n",
        "\n",
        "#해당 페이지를 decode한 html문서 가져오기\n",
        "def urlHtml(url):\n",
        "    data = urlopen(url).read()\n",
        "    urlcc = charEncode(str(data))\n",
        "    html = data.decode(urlcc, errors=\"replace\")\n",
        "\n",
        "    html = bs(html, 'html.parser')\n",
        "    return html"
      ],
      "execution_count": 3,
      "outputs": []
    },
    {
      "cell_type": "code",
      "metadata": {
        "id": "5liZTgzzQD2F",
        "colab_type": "code",
        "colab": {}
      },
      "source": [
        "def review(url) :\n",
        "    rt = []\n",
        "    #/moviedb/main?movieId=134684\n",
        "    # => https://movie.daum.net/moviedb/grade?movieId=134684\n",
        "\n",
        "    url = url.replace('main', 'grade')\n",
        "    url = 'https://movie.daum.net' + url\n",
        "    reviewhtml = urlHtml(url).select('.list_review > li')\n",
        "    for item in reviewhtml :\n",
        "        desc_review = item.select_one('.desc_review').text\n",
        "        desc_review = desc_review.strip().replace('\\n','').replace('\\r','')\n",
        "        rt.append(desc_review)\n",
        "\n",
        "    return rt\n"
      ],
      "execution_count": 36,
      "outputs": []
    },
    {
      "cell_type": "code",
      "metadata": {
        "id": "8kpzbxJ7RW18",
        "colab_type": "code",
        "colab": {
          "base_uri": "https://localhost:8080/",
          "height": 221
        },
        "outputId": "32642b6a-1520-40fa-b3c4-1626f1a0d11f"
      },
      "source": [
        "review('/moviedb/main?movieId=134684')"
      ],
      "execution_count": 38,
      "outputs": [
        {
          "output_type": "execute_result",
          "data": {
            "text/plain": [
              "['',\n",
              " '코로나 시기에 일부러 시간내서 돈 내서 보러 갔는데 무슨 tv드라마보다 재미가 없노.',\n",
              " '평점이 5점이나 되나요? 너무 높아서 원래 2점짜리인데, 0점 줍니다.',\n",
              " '재미없음',\n",
              " '내용은 없으나 연기력은 짱',\n",
              " '우리 살아있다',\n",
              " '볼 영화가 없어서 예매율 1위인 영화.예고편이 전부인 영화임.좀비가 한국에서 뜨니까 만들어진 아류작이며 보는 내내 번히 예성되는 내용, 뻔한  전개 때문에 극장 빈자리를 둘러보면서 하품하기는 처음.고등학교, 대학교 영화동아리에서 으싸 으싸햐서 여름 방학동안 만든 영화 같음.영화 음악도 어디서 둘운거 같은데??? 생각이 듬',\n",
              " '',\n",
              " '',\n",
              " '내용은 평범한데 유아인 연기력의 점수준거임']"
            ]
          },
          "metadata": {
            "tags": []
          },
          "execution_count": 38
        }
      ]
    },
    {
      "cell_type": "code",
      "metadata": {
        "id": "TNXTmCjjHCkh",
        "colab_type": "code",
        "colab": {}
      },
      "source": [
        "url = 'https://movie.daum.net/premovie/released'\n",
        "\n",
        "html = urlHtml(url)\n"
      ],
      "execution_count": 40,
      "outputs": []
    },
    {
      "cell_type": "code",
      "metadata": {
        "id": "NrG90Fs5Hls7",
        "colab_type": "code",
        "colab": {}
      },
      "source": [
        "ul = html.select('.list_boxthumb > li')\n",
        "mvdt = {}\n",
        "for li in ul :\n",
        "    lt = []\n",
        "    #영화정보 : 태그로 찾기\n",
        "    ainfo = str(li.select_one('a'))\n",
        "\n",
        "    #영화정보 추출\n",
        "    href = re.search(r'href=\\\"([\\w\\/?=]+)', ainfo).group(1)\n",
        "\n",
        "    #영화명 : 태그로 찾기\n",
        "    mvname = li.select_one('strong').text.replace(',', '')\n",
        "    lt = review(href)\n",
        "\n",
        "    mvdt[mvname] = lt"
      ],
      "execution_count": 45,
      "outputs": []
    },
    {
      "cell_type": "code",
      "metadata": {
        "id": "UZT-nAu-Y_vm",
        "colab_type": "code",
        "colab": {}
      },
      "source": [
        "with open('/content/drive/My Drive/PythonWork/PythonBasic/work/06/mv2.csv','w') as fp :\n",
        "    for key , value in mvdt.items() :\n",
        "        for item in value :\n",
        "            s = key + \",\" + item + \"\\n\"\n",
        "            fp.write(s)"
      ],
      "execution_count": 47,
      "outputs": []
    },
    {
      "cell_type": "markdown",
      "metadata": {
        "id": "Z_5fAVsJitPE",
        "colab_type": "text"
      },
      "source": [
        "### 감성분석"
      ]
    },
    {
      "cell_type": "code",
      "metadata": {
        "id": "P41bS5vTmTJW",
        "colab_type": "code",
        "colab": {}
      },
      "source": [
        "import json\n",
        "def adamsAi(myquery, mytype) :\n",
        "    mykey = ''\n",
        "\n",
        "    url = 'http://api.adams.ai/datamixiApi/omAnalysis?key=' + mykey \n",
        "    url = url +'&query=' + parse.quote(myquery )\n",
        "    url = url +'&type=' + mytype    \n",
        "  \n",
        "    data = urlopen(url).read().decode('utf-8')\n",
        "    dt = json.loads(data)\n",
        "\n",
        "    if mytype == '0' :\n",
        "        score = dt[\"return_object\"][\"score\"]\n",
        "        label = dt[\"return_object\"][\"label\"]\n",
        "    else :\n",
        "        score = dt[\"return_object\"][\"Result\"][0][0] \n",
        "        label = dt[\"return_object\"][\"Result\"][0][1] \n",
        "        \n",
        "    return score, label"
      ],
      "execution_count": 53,
      "outputs": []
    },
    {
      "cell_type": "code",
      "metadata": {
        "id": "yeddI--OjDU3",
        "colab_type": "code",
        "colab": {}
      },
      "source": [
        "with open('/content/drive/My Drive/PythonWork/PythonBasic/work/06/mv2.csv','r', encoding='utf-8') as fp :\n",
        "    data = fp.readlines()\n",
        "\n",
        "data2 = []\n",
        "for item in data :\n",
        "    item = item.replace('\\n','')\n",
        "    items = item.split(',')\n",
        "    \n",
        "    if len(items[1].strip()) > 0 :\n",
        "        score, label = adamsAi(items[1][:100], '0') \n",
        "        #score, label = 0, '1'\n",
        "        item = items[0]+ ',' + items[1] + ',' + str(score) + ','+ label + '\\n'\n",
        "    else : item = items[0]+ ',' + items[1] + '\\n'\n",
        "    \n",
        "    data2.append(item)"
      ],
      "execution_count": 65,
      "outputs": []
    },
    {
      "cell_type": "code",
      "metadata": {
        "id": "YAkcQiXnl5Mg",
        "colab_type": "code",
        "colab": {}
      },
      "source": [
        "data2"
      ],
      "execution_count": null,
      "outputs": []
    },
    {
      "cell_type": "code",
      "metadata": {
        "colab_type": "code",
        "id": "4LVfICs3nAuN",
        "colab": {}
      },
      "source": [
        "with open('/content/drive/My Drive/PythonWork/PythonBasic/work/06/mv3.csv','w') as fp :\n",
        "    for item in data2 :\n",
        "        fp.write(item)"
      ],
      "execution_count": 67,
      "outputs": []
    }
  ]
}