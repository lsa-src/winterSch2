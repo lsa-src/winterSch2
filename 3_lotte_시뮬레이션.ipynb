{
  "nbformat": 4,
  "nbformat_minor": 0,
  "metadata": {
    "colab": {
      "name": "3.  lotte 시뮬레이션.ipynb",
      "provenance": []
    },
    "kernelspec": {
      "name": "python3",
      "display_name": "Python 3"
    }
  },
  "cells": [
    {
      "cell_type": "markdown",
      "metadata": {
        "id": "6d7mQE5wpN3U"
      },
      "source": [
        "## **프로젝트 연습 : 로또 시뮬레이션**\r\n",
        "\r\n",
        "---\r\n",
        "\r\n",
        "```\r\n",
        "로또 시뮬레이션 프로그램을 제작해 보자.\r\n",
        "문제해결을 위하여 단계별로, 여러 파트로 나눠서 문제를 해결하는 연습을 합니다.\r\n",
        "\r\n",
        "■ 문제에 대한 고찰\r\n",
        "로또는 주 1회씩 열림. 하지만 한 사람이 한 회차에 여러 번 참여도 가능! \r\n",
        "1부터 45까지의 번호 중에서 주최측에서는 매주 6개의 '일반 당첨 번호'와 1개의 '보너스 번호'를 뽑아 당첨 번호를 결정합니다.\r\n",
        "\r\n",
        "당첨 액수는 아래 규칙에 따라 결정됩니다.\r\n",
        "1. 내가 뽑은 번호 6개와 일반 당첨 번호 6개 모두 일치 (10억 원)\r\n",
        "2. 내가 뽑은 번호 5개와 일반 당첨 번호 5개 일치, 그리고 내 번호 1개와 보너스 번호 일치 (5천만 원)\r\n",
        "3. 내가 뽑은 번호 5개와 일반 당첨 번호 5개 일치 (100만 원)\r\n",
        "4. 내가 뽑은 번호 4개와 일반 당첨 번호 4개 일치 (5만 원)\r\n",
        "5. 내가 뽑은 번호 3개와 일반 당첨 번호 3개 일치 (5천 원)\r\n",
        "\r\n",
        "```\r\n",
        "\r\n"
      ]
    },
    {
      "cell_type": "markdown",
      "metadata": {
        "id": "2e2Jq2qaplMp"
      },
      "source": [
        "\r\n",
        "\r\n",
        "```\r\n",
        "● generate_numbers()\r\n",
        "이 함수는 파라미터로 정수 n을 받습니다. 무작위로 1과 45 사이의 서로 다른 번호 n개를 뽑고, 그 번호들이 담긴 리스트를 리턴합니다.\r\n",
        "\r\n",
        "예를 들어서 아래 코드를 실행하면,\r\n",
        "print(generate_numbers(6))  = 출력 =>  [16, 2, 30, 40, 15, 33]\r\n",
        "[16, 2, 30, 40, 15, 33]\r\n",
        "\r\n",
        "참고로 이 함수는 참가자의 번호를 뽑는 데에도 쓰이고, 보너스를 포함한 당첨 번호 7개를 뽑는 데에도 쓸 수 있도록 설계합니다.\r\n",
        "```\r\n",
        "\r\n"
      ]
    },
    {
      "cell_type": "code",
      "metadata": {
        "id": "SYNl9up6qHI7"
      },
      "source": [
        "# 1단계 : generate_numbers() 작성\r\n",
        "\r\n",
        "from random import randint"
      ],
      "execution_count": null,
      "outputs": []
    },
    {
      "cell_type": "markdown",
      "metadata": {
        "id": "0c30u_ZzprIU"
      },
      "source": [
        "\r\n",
        "\r\n",
        "```\r\n",
        "● draw_winning_numbers()\r\n",
        "일반 당첨 번호 6개와 보너스 번호 1개가 포함된 리스트를 리턴합니다. \r\n",
        "일반 당첨 번호 6개는 정렬되어 있어야 하고, 보너스 번호는 마지막에 추가\r\n",
        "\r\n",
        "예를 들어서 아래 코드를 실행하면,\r\n",
        "print(draw_winning_numbers()) = 출력 => [4, 12, 14, 28, 40, 41, 6]\r\n",
        "```\r\n",
        "\r\n"
      ]
    },
    {
      "cell_type": "code",
      "metadata": {
        "id": "W5qGR5DzpDIF"
      },
      "source": [
        "#  2단계 : draw_winning_numbers() 작성"
      ],
      "execution_count": null,
      "outputs": []
    },
    {
      "cell_type": "markdown",
      "metadata": {
        "id": "Lv8nFcCPpwYF"
      },
      "source": [
        "```\r\n",
        "● count_matching_numbers( )\r\n",
        "참가자의 번호 리스트와 당첨번호 리스트를 비교합니다.\r\n",
        "파라미터로 리스트 list_1과 리스트 list_2를 받아, 두 리스트 사이에 겹치는 번호 개수를 리턴하여 줍니다.\r\n",
        "\r\n",
        "예를 들어서 아래 코드를 실행하면,\r\n",
        "print(count_matching_numbers([2, 7, 11, 14, 25, 40], [2, 11, 13, 14, 30, 35]))\r\n",
        "2, 11, 13이 겹치기 때문에 이렇게 나옵니다.\r\n",
        "리턴값 : 3\r\n",
        "```\r\n",
        "\r\n"
      ]
    },
    {
      "cell_type": "code",
      "metadata": {
        "id": "l9CfHmEKqmYa"
      },
      "source": [
        "# 3단계 : count_matching_numbers( ) 작성"
      ],
      "execution_count": null,
      "outputs": []
    },
    {
      "cell_type": "markdown",
      "metadata": {
        "id": "C5aDjF_Jp6XE"
      },
      "source": [
        "\r\n",
        "\r\n",
        "```\r\n",
        "● check()\r\n",
        "참가자의 당첨 금액을 리턴합니다. 파라미터로 참가자가 뽑은 번호가 담긴 리스트 numbers와 주최측에서 뽑은 번호가 담긴 리스트 winning_numbers로 정합니다. \r\n",
        "numbers는 번호 여섯 개를 담고 있고, winning_numbers는 보너스까지 해서 번호 7개를 가지게 됩니다.\r\n",
        "\r\n",
        "예를 들어서 아래 코드를 실행하면,\r\n",
        "numbers_test = [2, 4, 11, 14, 25, 40]\r\n",
        "winning_numbers_test = [4, 12, 14, 28, 40, 41, 6]\r\n",
        "\r\n",
        "print(check(numbers_list, winning_numbers_test))\r\n",
        "4, 14, 40... 이렇게 번호 3개가 겹치기 때문에 5천 원에 당첨\r\n",
        "\r\n",
        "리턴값 : 5000\r\n",
        "```\r\n",
        "\r\n"
      ]
    },
    {
      "cell_type": "code",
      "metadata": {
        "id": "qUqVLX-xp5sr"
      },
      "source": [
        "# 4단계 : check( )작성"
      ],
      "execution_count": null,
      "outputs": []
    },
    {
      "cell_type": "code",
      "metadata": {
        "id": "54IbAOQ8rJdu"
      },
      "source": [
        "# 실행 \r\n",
        "numbers_test = []\r\n",
        "for i in range(6):\r\n",
        "    numbers_test.append(int(input(f'{i+1}번째 로또번호 입력 : ')))\r\n",
        "\r\n",
        "print(numbers_test)\r\n",
        "#winning_numbers_test = [4, 12, 14, 28, 40, 41, 6] #미리 넣고 시작하는 경우\r\n",
        " \r\n",
        "#winning_numbers = generate_numbers(7)\r\n",
        "#print(\"당첨금 : \"+ str(check(numbers_test, winning_numbers) ) + \"원\")\r\n",
        "\r\n",
        "for i in range(1000) :  #천번을 돌렸을 때 당첨은 몇번이 될까?\r\n",
        "  winning_numbers = generate_numbers(7)\r\n",
        "  print(winning_numbers, numbers_test)\r\n",
        "  print(\"당첨금 : \"+ str(check(numbers_test, winning_numbers) ) + \"원\") "
      ],
      "execution_count": null,
      "outputs": []
    }
  ]
}